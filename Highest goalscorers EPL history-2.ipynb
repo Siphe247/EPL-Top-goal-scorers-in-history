{
 "cells": [
  {
   "cell_type": "code",
   "execution_count": 295,
   "id": "dd6abb7e-2daf-4eec-a875-84ac34f31627",
   "metadata": {},
   "outputs": [],
   "source": [
    "import requests\n",
    "from bs4 import BeautifulSoup\n",
    "import pandas as pd"
   ]
  },
  {
   "cell_type": "code",
   "execution_count": 296,
   "id": "a84006c4-26ad-49b5-8ed3-864a8e4251ed",
   "metadata": {},
   "outputs": [],
   "source": [
    "url = 'https://www.transfermarkt.co.za/premier-league/ewigetorschuetzen/wettbewerb/GB1/plus/1/galerie/0?saisonIdVon=1992&saisonIdBis=2024&tabellenart=alle&filterPosition=alle'"
   ]
  },
  {
   "cell_type": "code",
   "execution_count": 297,
   "id": "df9cbda7-3606-420f-ba69-f382ac043d5f",
   "metadata": {},
   "outputs": [],
   "source": [
    "response = requests.get(url)\n",
    "soup = BeautifulSoup(response.content, \"html.parser\")"
   ]
  },
  {
   "cell_type": "code",
   "execution_count": 298,
   "id": "f0b0fb48-c2bd-4804-a758-11dd320ede95",
   "metadata": {},
   "outputs": [
    {
     "data": {
      "text/plain": [
       "404"
      ]
     },
     "execution_count": 298,
     "metadata": {},
     "output_type": "execute_result"
    }
   ],
   "source": [
    "response.status_code"
   ]
  },
  {
   "cell_type": "code",
   "execution_count": 299,
   "id": "35d83bd1-8e6b-4d07-ae92-d835f4b78bb9",
   "metadata": {},
   "outputs": [],
   "source": [
    "standings_table = soup.find('class=\"responsive-table\"')"
   ]
  },
  {
   "cell_type": "code",
   "execution_count": 321,
   "id": "de4bfd7e-72bd-4fbd-b181-5a89f1f256a9",
   "metadata": {},
   "outputs": [],
   "source": [
    "rank = soup.select_one('h1[class=\"zentriert\"]' , id=\"yw1_c0\")"
   ]
  },
  {
   "cell_type": "code",
   "execution_count": 301,
   "id": "716ead66-3b52-440b-a1ea-13a94b45827d",
   "metadata": {},
   "outputs": [],
   "source": [
    "player = soup.select_one('h1[id=\"yw1_c1\"]')"
   ]
  },
  {
   "cell_type": "code",
   "execution_count": 302,
   "id": "1f5d749c-bd84-4e7d-a272-8902953a25d7",
   "metadata": {},
   "outputs": [],
   "source": [
    "nationality = soup.select_one('h1[class=\"zentriert\"]' , id =\"yw1_c2\")"
   ]
  },
  {
   "cell_type": "code",
   "execution_count": 303,
   "id": "2c23fc1c-d8b9-4a39-a12c-255eaa0d6731",
   "metadata": {},
   "outputs": [],
   "source": [
    "club = soup.select_one('h1[class=\"zentriert\"]', id =\"yw1_c3\")"
   ]
  },
  {
   "cell_type": "code",
   "execution_count": 304,
   "id": "db5acdec-fe46-4c02-aa1a-1d6e194b2d36",
   "metadata": {},
   "outputs": [],
   "source": [
    "appearances = soup.select_one('h1[class=\"zentriert\"]' , id=\"yw1_c4\")"
   ]
  },
  {
   "cell_type": "code",
   "execution_count": 305,
   "id": "124f1cae-e761-48fd-9a06-00d237f6e10e",
   "metadata": {},
   "outputs": [],
   "source": [
    "goals = soup.select_one('h1[class=\"zentriert\"]' , id=\"yw1_c9\")"
   ]
  },
  {
   "cell_type": "code",
   "execution_count": 334,
   "id": "588f7781-37be-4cf9-bfea-6aa37a899fd5",
   "metadata": {},
   "outputs": [],
   "source": [
    "standings_table = []\n",
    "rank = []\n",
    "players = []\n",
    "nationality = []\n",
    "club = []\n",
    "appearances = []\n",
    "goals = []"
   ]
  },
  {
   "cell_type": "code",
   "execution_count": 358,
   "id": "c73a5a9a-8de0-444f-9d30-7177bef6183a",
   "metadata": {},
   "outputs": [
    {
     "name": "stdout",
     "output_type": "stream",
     "text": [
      "Empty DataFrame\n",
      "Columns: [rank, player, nationality, club, appearances, goals]\n",
      "Index: []\n"
     ]
    }
   ],
   "source": [
    "df = pd.DataFrame(standings_table, columns=['rank', 'player', 'nationality', 'club', 'appearances', 'goals'])\n",
    "print(df)"
   ]
  },
  {
   "cell_type": "code",
   "execution_count": null,
   "id": "bdebabc4-f756-4f9a-b2d6-8dc101918521",
   "metadata": {},
   "outputs": [],
   "source": []
  }
 ],
 "metadata": {
  "kernelspec": {
   "display_name": "Python 3 (ipykernel)",
   "language": "python",
   "name": "python3"
  },
  "language_info": {
   "codemirror_mode": {
    "name": "ipython",
    "version": 3
   },
   "file_extension": ".py",
   "mimetype": "text/x-python",
   "name": "python",
   "nbconvert_exporter": "python",
   "pygments_lexer": "ipython3",
   "version": "3.12.4"
  }
 },
 "nbformat": 4,
 "nbformat_minor": 5
}
